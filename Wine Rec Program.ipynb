{
 "cells": [
  {
   "cell_type": "code",
   "execution_count": null,
   "metadata": {},
   "outputs": [],
   "source": [
    "# Import pandas\n",
    "import pandas as pd\n",
    "# Import matplotlib to plot data\n",
    "import matplotlib.pylab as plt\n",
    "%matplotlib inline\n",
    "plt.style.use('fivethirtyeight')"
   ]
  },
  {
   "cell_type": "code",
   "execution_count": null,
   "metadata": {},
   "outputs": [],
   "source": [
    "# Import data set\n",
    "wine_data_program = pd.read_csv('wine_data.csv')\n",
    "# Visualize data set\n",
    "wine_data_program.head()"
   ]
  },
  {
   "cell_type": "code",
   "execution_count": null,
   "metadata": {},
   "outputs": [],
   "source": [
    "# Remove the region columns from the dataset because more than 50% of the values are missing \n",
    "wine_data_program.drop(['Unnamed: 0', 'region_2'], inplace=True, axis=1)\n",
    "# Visualize the dataset to ensure column was dropped\n",
    "wine_data_program"
   ]
  },
  {
   "cell_type": "code",
   "execution_count": null,
   "metadata": {},
   "outputs": [],
   "source": [
    "# Replace missing values with the average for the column because they are continuous values\n",
    "wine_data_program['price'] = wine_data_program['price'].fillna(wine_data_program['price'].mean())\n",
    "# Check to see if all values are filled\n",
    "wine_data_program.isnull().mean()*100"
   ]
  },
  {
   "cell_type": "code",
   "execution_count": null,
   "metadata": {},
   "outputs": [],
   "source": [
    "# Add column to wine_data set to analyze data by points per dollar\n",
    "wine_data_program['Value']=wine_data_program['points']/wine_data_program['price']\n",
    "wine_data_program.head()"
   ]
  },
  {
   "cell_type": "code",
<<<<<<< HEAD
   "execution_count": 23,
=======
   "execution_count": null,
>>>>>>> 939b46f50b5aabb93adf675151eb668ba7acf05c
   "metadata": {},
   "outputs": [],
   "source": [
    "#need to create a program that takes user input and slices the data based on such\n",
    "# Inputs, country, variety, points, price \n",
    "# output - wines that fit those criteria \n",
    "# need to have user instructions to prevent errors \n",
    "# Create new dataset for France\n",
    "def wine_rec():\n",
    "    try:\n",
    "        # grouping wine data by country \n",
    "        grouped_wine = wine_data_program.groupby('country')\n",
    "        # slices the data based on user country \n",
    "        print('Please enter your desired country:')\n",
    "        input_wine_country = grouped_wine.get_group(input())\n",
    "        # groups the sliced data by variety \n",
    "        variety_grouped = input_wine_country.groupby('variety')\n",
    "        # slices the data based on variety input \n",
    "        print('Please enter your desired wine variety:')\n",
    "        input_wine_variety = variety_grouped.get_group(input())\n",
    "        # slices the twice sliced data by points\n",
    "        # points greater than whatever input  \n",
    "        print('Please enter your desired minimum rating:')\n",
    "        wine_prg_df= input_wine_variety[input_wine_variety['points']>=int(input())]\n",
    "        print('Please enter your desired maximum price:')\n",
    "        wine_prg_srt = wine_prg_df[wine_prg_df['price']<=float(input())]\n",
    "        # sort the data frame descending order by points \n",
    "        wine_prg_srt = wine_prg_df.sort_values(by=['points'], ascending=False)\n",
    "        return(wine_prg_srt.head(10))\n",
    "    except:\n",
    "        print('Input Error, please enter a valid input')"
   ]
  },
  {
   "cell_type": "code",
<<<<<<< HEAD
   "execution_count": 22,
   "metadata": {},
   "outputs": [
    {
     "name": "stdout",
     "output_type": "stream",
     "text": [
      "Please enter your desired country:\n"
     ]
    },
    {
     "name": "stdin",
     "output_type": "stream",
     "text": [
      " France\n"
     ]
    },
    {
     "name": "stdout",
     "output_type": "stream",
     "text": [
      "Please enter your desired wine variety:\n"
     ]
    },
    {
     "name": "stdin",
     "output_type": "stream",
     "text": [
      " Gamay\n"
     ]
    },
    {
     "name": "stdout",
     "output_type": "stream",
     "text": [
      "Please enter your desired minimum rating:\n"
     ]
    },
    {
     "name": "stdin",
     "output_type": "stream",
     "text": [
      " 90\n"
     ]
    },
    {
     "name": "stdout",
     "output_type": "stream",
     "text": [
      "Please enter your desired maximum price:\n"
     ]
    },
    {
     "name": "stdin",
     "output_type": "stream",
     "text": [
      " 50\n"
     ]
    },
    {
     "data": {
      "text/html": [
       "<div>\n",
       "<style scoped>\n",
       "    .dataframe tbody tr th:only-of-type {\n",
       "        vertical-align: middle;\n",
       "    }\n",
       "\n",
       "    .dataframe tbody tr th {\n",
       "        vertical-align: top;\n",
       "    }\n",
       "\n",
       "    .dataframe thead th {\n",
       "        text-align: right;\n",
       "    }\n",
       "</style>\n",
       "<table border=\"1\" class=\"dataframe\">\n",
       "  <thead>\n",
       "    <tr style=\"text-align: right;\">\n",
       "      <th></th>\n",
       "      <th>country</th>\n",
       "      <th>description</th>\n",
       "      <th>designation</th>\n",
       "      <th>points</th>\n",
       "      <th>price</th>\n",
       "      <th>province</th>\n",
       "      <th>region_1</th>\n",
       "      <th>taster_name</th>\n",
       "      <th>taster_twitter_handle</th>\n",
       "      <th>title</th>\n",
       "      <th>variety</th>\n",
       "      <th>winery</th>\n",
       "      <th>Value</th>\n",
       "    </tr>\n",
       "  </thead>\n",
       "  <tbody>\n",
       "    <tr>\n",
       "      <th>12944</th>\n",
       "      <td>France</td>\n",
       "      <td>The Côte du Py, one of the best cru vineyard s...</td>\n",
       "      <td>Côte du Py Vieilles Vignes</td>\n",
       "      <td>94</td>\n",
       "      <td>24.0</td>\n",
       "      <td>Beaujolais</td>\n",
       "      <td>Morgon</td>\n",
       "      <td>Roger Voss</td>\n",
       "      <td>@vossroger</td>\n",
       "      <td>Stéphane Aviron 2014 Côte du Py Vieilles Vigne...</td>\n",
       "      <td>Gamay</td>\n",
       "      <td>Stéphane Aviron</td>\n",
       "      <td>3.916667</td>\n",
       "    </tr>\n",
       "    <tr>\n",
       "      <th>46897</th>\n",
       "      <td>France</td>\n",
       "      <td>The wine's name (“last breath”) is based on it...</td>\n",
       "      <td>Dernier Souffle</td>\n",
       "      <td>94</td>\n",
       "      <td>35.0</td>\n",
       "      <td>Beaujolais</td>\n",
       "      <td>Moulin-à-Vent</td>\n",
       "      <td>Roger Voss</td>\n",
       "      <td>@vossroger</td>\n",
       "      <td>Richard Rottiers 2015 Dernier Souffle  (Moulin...</td>\n",
       "      <td>Gamay</td>\n",
       "      <td>Richard Rottiers</td>\n",
       "      <td>2.685714</td>\n",
       "    </tr>\n",
       "    <tr>\n",
       "      <th>107463</th>\n",
       "      <td>France</td>\n",
       "      <td>Planted in 1935, this single vineyard wine is ...</td>\n",
       "      <td>1935 Vieilles Vignes</td>\n",
       "      <td>94</td>\n",
       "      <td>45.0</td>\n",
       "      <td>Beaujolais</td>\n",
       "      <td>Morgon</td>\n",
       "      <td>Roger Voss</td>\n",
       "      <td>@vossroger</td>\n",
       "      <td>Jean-Michel Dupré 2015 1935 Vieilles Vignes  (...</td>\n",
       "      <td>Gamay</td>\n",
       "      <td>Jean-Michel Dupré</td>\n",
       "      <td>2.088889</td>\n",
       "    </tr>\n",
       "    <tr>\n",
       "      <th>59405</th>\n",
       "      <td>France</td>\n",
       "      <td>Wonderful old vines facing south and south-eas...</td>\n",
       "      <td>Vieilles Vignes</td>\n",
       "      <td>94</td>\n",
       "      <td>20.0</td>\n",
       "      <td>Beaujolais</td>\n",
       "      <td>Moulin-à-Vent</td>\n",
       "      <td>Roger Voss</td>\n",
       "      <td>@vossroger</td>\n",
       "      <td>Domaines Dominique Piron 2015 Vieilles Vignes ...</td>\n",
       "      <td>Gamay</td>\n",
       "      <td>Domaines Dominique Piron</td>\n",
       "      <td>4.700000</td>\n",
       "    </tr>\n",
       "    <tr>\n",
       "      <th>120086</th>\n",
       "      <td>France</td>\n",
       "      <td>From the most famous sector in Morgon, this wi...</td>\n",
       "      <td>Côte du Py</td>\n",
       "      <td>94</td>\n",
       "      <td>25.0</td>\n",
       "      <td>Beaujolais</td>\n",
       "      <td>Morgon</td>\n",
       "      <td>Roger Voss</td>\n",
       "      <td>@vossroger</td>\n",
       "      <td>Domaines Dominique Piron 2015 Côte du Py  (Mor...</td>\n",
       "      <td>Gamay</td>\n",
       "      <td>Domaines Dominique Piron</td>\n",
       "      <td>3.760000</td>\n",
       "    </tr>\n",
       "  </tbody>\n",
       "</table>\n",
       "</div>"
      ],
      "text/plain": [
       "       country                                        description  \\\n",
       "12944   France  The Côte du Py, one of the best cru vineyard s...   \n",
       "46897   France  The wine's name (“last breath”) is based on it...   \n",
       "107463  France  Planted in 1935, this single vineyard wine is ...   \n",
       "59405   France  Wonderful old vines facing south and south-eas...   \n",
       "120086  France  From the most famous sector in Morgon, this wi...   \n",
       "\n",
       "                       designation  points  price    province       region_1  \\\n",
       "12944   Côte du Py Vieilles Vignes      94   24.0  Beaujolais         Morgon   \n",
       "46897              Dernier Souffle      94   35.0  Beaujolais  Moulin-à-Vent   \n",
       "107463        1935 Vieilles Vignes      94   45.0  Beaujolais         Morgon   \n",
       "59405              Vieilles Vignes      94   20.0  Beaujolais  Moulin-à-Vent   \n",
       "120086                  Côte du Py      94   25.0  Beaujolais         Morgon   \n",
       "\n",
       "       taster_name taster_twitter_handle  \\\n",
       "12944   Roger Voss            @vossroger   \n",
       "46897   Roger Voss            @vossroger   \n",
       "107463  Roger Voss            @vossroger   \n",
       "59405   Roger Voss            @vossroger   \n",
       "120086  Roger Voss            @vossroger   \n",
       "\n",
       "                                                    title variety  \\\n",
       "12944   Stéphane Aviron 2014 Côte du Py Vieilles Vigne...   Gamay   \n",
       "46897   Richard Rottiers 2015 Dernier Souffle  (Moulin...   Gamay   \n",
       "107463  Jean-Michel Dupré 2015 1935 Vieilles Vignes  (...   Gamay   \n",
       "59405   Domaines Dominique Piron 2015 Vieilles Vignes ...   Gamay   \n",
       "120086  Domaines Dominique Piron 2015 Côte du Py  (Mor...   Gamay   \n",
       "\n",
       "                          winery     Value  \n",
       "12944            Stéphane Aviron  3.916667  \n",
       "46897           Richard Rottiers  2.685714  \n",
       "107463         Jean-Michel Dupré  2.088889  \n",
       "59405   Domaines Dominique Piron  4.700000  \n",
       "120086  Domaines Dominique Piron  3.760000  "
      ]
     },
     "execution_count": 22,
     "metadata": {},
     "output_type": "execute_result"
    }
   ],
=======
   "execution_count": null,
   "metadata": {},
   "outputs": [],
>>>>>>> 939b46f50b5aabb93adf675151eb668ba7acf05c
   "source": [
    "wine_rec()"
   ]
  },
  {
   "cell_type": "code",
   "execution_count": null,
   "metadata": {},
   "outputs": [],
   "source": [
    "wine_data_program[(wine_data_program.price <= 50.0) & (wine_data_program.points >= 88)].sort_values('points', ascending = 0)"
   ]
  },
  {
   "cell_type": "code",
   "execution_count": null,
   "metadata": {},
   "outputs": [],
   "source": [
    "country_input = input()\n",
    "variety_input = input()\n",
    "price_input= float(input())\n",
    "points_input = int(input())\n",
    "rec_df = wine_data_program[(wine_data_program.country==country_input) & (wine_data_program.variety==variety_input) & (wine_data_program.price <= price_input) & (wine_data_program.points >= points_input)].sort_values('points', ascending = 0)\n"
   ]
  },
  {
   "cell_type": "code",
   "execution_count": null,
   "metadata": {},
   "outputs": [],
   "source": [
    "rec_df"
   ]
  },
  {
   "cell_type": "code",
   "execution_count": null,
   "metadata": {},
   "outputs": [],
   "source": [
    "def wine_recommend():\n",
    "    try:\n",
    "        country_input = input()\n",
    "        variety_input = input()\n",
    "        price_input= float(input())\n",
    "        points_input = int(input())\n",
    "        rec_df = wine_data_program[(wine_data_program.country==country_input) & (wine_data_program.variety==variety_input) & (wine_data_program.price <= price_input) & (wine_data_program.points >= points_input)].sort_values('points', ascending = 0)\n",
    "        return(rec_df.head(10))\n",
    "   \n",
    "    except:\n",
    "        print('Input Error, please enter a valid input')\n"
   ]
  },
  {
   "cell_type": "code",
   "execution_count": null,
   "metadata": {},
   "outputs": [],
   "source": [
    "wine_recommend()\n"
   ]
  },
  {
   "cell_type": "code",
   "execution_count": null,
   "metadata": {},
   "outputs": [],
   "source": []
  },
  {
   "cell_type": "code",
   "execution_count": null,
   "metadata": {},
   "outputs": [],
   "source": []
  }
 ],
 "metadata": {
  "kernelspec": {
   "display_name": "Python 3",
   "language": "python",
   "name": "python3"
  },
  "language_info": {
   "codemirror_mode": {
    "name": "ipython",
    "version": 3
   },
   "file_extension": ".py",
   "mimetype": "text/x-python",
   "name": "python",
   "nbconvert_exporter": "python",
   "pygments_lexer": "ipython3",
   "version": "3.6.7"
  }
 },
 "nbformat": 4,
 "nbformat_minor": 2
}
