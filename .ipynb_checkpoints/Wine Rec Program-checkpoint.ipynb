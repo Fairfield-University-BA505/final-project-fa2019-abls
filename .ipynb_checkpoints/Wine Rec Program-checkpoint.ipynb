{
 "cells": [
  {
   "cell_type": "code",
   "execution_count": null,
   "metadata": {},
   "outputs": [],
   "source": [
    "# Import pandas\n",
    "import pandas as pd\n",
    "# Import matplotlib to plot data\n",
    "import matplotlib.pylab as plt\n",
    "%matplotlib inline\n",
    "plt.style.use('fivethirtyeight')"
   ]
  },
  {
   "cell_type": "code",
   "execution_count": null,
   "metadata": {},
   "outputs": [],
   "source": [
    "# Import data set\n",
    "wine_data_program = pd.read_csv('wine_data.csv')\n",
    "# Visualize data set\n",
    "wine_data_program.head()"
   ]
  },
  {
   "cell_type": "code",
   "execution_count": null,
   "metadata": {},
   "outputs": [],
   "source": [
    "# Remove the region columns from the dataset because more than 50% of the values are missing \n",
    "wine_data_program.drop(['Unnamed: 0', 'region_2'], inplace=True, axis=1)\n",
    "# Visualize the dataset to ensure column was dropped\n",
    "wine_data_program"
   ]
  },
  {
   "cell_type": "code",
   "execution_count": null,
   "metadata": {},
   "outputs": [],
   "source": [
    "# Replace missing values with the average for the column because they are continuous values\n",
    "wine_data_program['price'] = wine_data_program['price'].fillna(wine_data_program['price'].mean())\n",
    "# Check to see if all values are filled\n",
    "wine_data_program.isnull().mean()*100"
   ]
  },
  {
   "cell_type": "code",
   "execution_count": null,
   "metadata": {},
   "outputs": [],
   "source": [
    "# Add column to wine_data set to analyze data by points per dollar\n",
    "wine_data_program['Value']=wine_data_program['points']/wine_data_program['price']\n",
    "wine_data_program.head()"
   ]
  },
  {
   "cell_type": "code",
   "execution_count": null,
   "metadata": {},
   "outputs": [],
   "source": [
    "#need to create a program that takes user input and slices the data based on such\n",
    "# Inputs, country, variety, points, price \n",
    "# output - wines that fit those criteria \n",
    "# need to have user instructions to prevent errors \n",
    "# Create new dataset for France\n",
    "def wine_rec():\n",
    "    try:\n",
    "        # grouping wine data by country \n",
    "        grouped_wine = wine_data_program.groupby('country')\n",
    "        # slices the data based on user country \n",
    "        print('Please enter your desired country:')\n",
    "        input_wine_country = grouped_wine.get_group(input())\n",
    "        # groups the sliced data by variety \n",
    "        variety_grouped = input_wine_country.groupby('variety')\n",
    "        # slices the data based on variety input \n",
    "        print('Please enter your desired wine variety:')\n",
    "        input_wine_variety = variety_grouped.get_group(input())\n",
    "        # slices the twice sliced data by points\n",
    "        # points greater than whatever input  \n",
    "        print('Please enter your desired minimum rating:')\n",
    "        wine_prg_df= input_wine_variety[input_wine_variety['points']>=int(input())]\n",
    "        print('Please enter your desired maximum price:')\n",
    "        wine_prg_srt = wine_prg_df[wine_prg_df['price']<=float(input())]\n",
    "        # sort the data frame descending order by points \n",
    "        wine_prg_srt = wine_prg_df.sort_values(by=['points'], ascending=False)\n",
    "        return(wine_prg_srt.head(10))\n",
    "    except:\n",
    "        print('Input Error, please enter a valid input')"
   ]
  },
  {
   "cell_type": "code",
   "execution_count": null,
   "metadata": {},
   "outputs": [],
   "source": [
    "wine_rec()"
   ]
  },
  {
   "cell_type": "code",
   "execution_count": null,
   "metadata": {},
   "outputs": [],
   "source": [
    "wine_data_program[(wine_data_program.price <= 50.0) & (wine_data_program.points >= 88)].sort_values('points', ascending = 0)"
   ]
  },
  {
   "cell_type": "code",
   "execution_count": null,
   "metadata": {},
   "outputs": [],
   "source": [
    "country_input = input()\n",
    "variety_input = input()\n",
    "price_input= float(input())\n",
    "points_input = int(input())\n",
    "rec_df = wine_data_program[(wine_data_program.country==country_input) & (wine_data_program.variety==variety_input) & (wine_data_program.price <= price_input) & (wine_data_program.points >= points_input)].sort_values('points', ascending = 0)\n"
   ]
  },
  {
   "cell_type": "code",
   "execution_count": null,
   "metadata": {},
   "outputs": [],
   "source": [
    "rec_df"
   ]
  },
  {
   "cell_type": "code",
   "execution_count": 1,
   "metadata": {},
   "outputs": [],
   "source": [
    "def wine_rec2():\n",
    "    try:\n",
    "        country_input = input()\n",
    "        variety_input = input()\n",
    "        price_input= float(input())\n",
    "        points_input = int(input())\n",
    "        rec_df = wine_data_program[(wine_data_program.country==country_input) & (wine_data_program.variety==variety_input) & (wine_data_program.price <= price_input) & (wine_data_program.points >= points_input)].sort_values('points', ascending = 0)\n",
    "        return(rec_df.head(10))\n",
    "   \n",
    "    except:\n",
    "        print('Input Error, please enter a valid input')\n"
   ]
  },
  {
   "cell_type": "code",
   "execution_count": 2,
   "metadata": {},
   "outputs": [
    {
     "name": "stdin",
     "output_type": "stream",
     "text": [
      " US\n",
      " Pinot Noir\n",
      " 50\n",
      " 80\n"
     ]
    },
    {
     "name": "stdout",
     "output_type": "stream",
     "text": [
      "Input Error, please enter a valid input\n"
     ]
    }
   ],
   "source": [
    "wine_rec2()"
   ]
  },
  {
   "cell_type": "code",
   "execution_count": null,
   "metadata": {},
   "outputs": [],
   "source": []
  },
  {
   "cell_type": "code",
   "execution_count": null,
   "metadata": {},
   "outputs": [],
   "source": []
  }
 ],
 "metadata": {
  "kernelspec": {
   "display_name": "Python 3",
   "language": "python",
   "name": "python3"
  },
  "language_info": {
   "codemirror_mode": {
    "name": "ipython",
    "version": 3
   },
   "file_extension": ".py",
   "mimetype": "text/x-python",
   "name": "python",
   "nbconvert_exporter": "python",
   "pygments_lexer": "ipython3",
   "version": "3.6.7"
  }
 },
 "nbformat": 4,
 "nbformat_minor": 2
}
